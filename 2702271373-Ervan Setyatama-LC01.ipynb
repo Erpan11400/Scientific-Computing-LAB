{
  "nbformat": 4,
  "nbformat_minor": 0,
  "metadata": {
    "colab": {
      "provenance": [],
      "authorship_tag": "ABX9TyOk+zxwicQ3LMskwk6rZWYO",
      "include_colab_link": true
    },
    "kernelspec": {
      "name": "python3",
      "display_name": "Python 3"
    },
    "language_info": {
      "name": "python"
    }
  },
  "cells": [
    {
      "cell_type": "markdown",
      "metadata": {
        "id": "view-in-github",
        "colab_type": "text"
      },
      "source": [
        "<a href=\"https://colab.research.google.com/github/Erpan11400/haha/blob/main/2702271373-Ervan%20Setyatama-LC01.ipynb\" target=\"_parent\"><img src=\"https://colab.research.google.com/assets/colab-badge.svg\" alt=\"Open In Colab\"/></a>"
      ]
    },
    {
      "cell_type": "code",
      "execution_count": null,
      "metadata": {
        "id": "hinXRV6j9ctx"
      },
      "outputs": [],
      "source": [
        "def aha(a,b):\n",
        "  if a < b - 5:\n",
        "    status = 'haha'\n",
        "  elif a > b + 5:\n",
        "    status = 'hehe'\n",
        "  else: status = 'off'\n",
        "\n",
        "  return status"
      ]
    },
    {
      "cell_type": "code",
      "source": [
        "status = aha(65,75)\n",
        "print(status)"
      ],
      "metadata": {
        "colab": {
          "base_uri": "https://localhost:8080/"
        },
        "id": "dZZLgcPeIMZm",
        "outputId": "780646a7-bb59-4793-ae2f-d166155cb39c"
      },
      "execution_count": null,
      "outputs": [
        {
          "output_type": "stream",
          "name": "stdout",
          "text": [
            "haha\n"
          ]
        }
      ]
    },
    {
      "cell_type": "code",
      "source": [
        "status = aha(75,65)\n",
        "print(status)"
      ],
      "metadata": {
        "colab": {
          "base_uri": "https://localhost:8080/"
        },
        "id": "BMKFOoY0IVGa",
        "outputId": "8d0c8306-60c5-4fa6-a720-a0f3f590bcca"
      },
      "execution_count": null,
      "outputs": [
        {
          "output_type": "stream",
          "name": "stdout",
          "text": [
            "hehe\n"
          ]
        }
      ]
    },
    {
      "cell_type": "code",
      "source": [
        "status = aha(65,63)\n",
        "print(status)"
      ],
      "metadata": {
        "colab": {
          "base_uri": "https://localhost:8080/"
        },
        "id": "-LbPnG7ZIad8",
        "outputId": "de2776cc-dffc-41d1-f5e1-c81d9ca06175"
      },
      "execution_count": null,
      "outputs": [
        {
          "output_type": "stream",
          "name": "stdout",
          "text": [
            "off\n"
          ]
        }
      ]
    },
    {
      "cell_type": "code",
      "source": [
        "x = 3\n",
        "if x > 1 and x < 2:\n",
        "  y = 2\n",
        "elif x > 2 and x < 4:\n",
        "  y = 4\n",
        "else: y = 0\n",
        "print(y)"
      ],
      "metadata": {
        "colab": {
          "base_uri": "https://localhost:8080/"
        },
        "id": "qpO2ICQIJa8d",
        "outputId": "bddb9674-a7a0-47a8-bd06-35dcd068304b"
      },
      "execution_count": null,
      "outputs": [
        {
          "output_type": "stream",
          "name": "stdout",
          "text": [
            "4\n"
          ]
        }
      ]
    },
    {
      "cell_type": "code",
      "source": [
        "x = 3\n",
        "if 1 < x < 2:\n",
        "  y = 2\n",
        "elif 2 < x < 4:\n",
        "  y = 4\n",
        "else: y = 0\n",
        "print(y)"
      ],
      "metadata": {
        "colab": {
          "base_uri": "https://localhost:8080/"
        },
        "id": "-2hQcEz-Jw6_",
        "outputId": "02ed1b37-52c7-4a61-b8ca-f22725e9fa82"
      },
      "execution_count": null,
      "outputs": [
        {
          "output_type": "stream",
          "name": "stdout",
          "text": [
            "4\n"
          ]
        }
      ]
    }
  ]
}